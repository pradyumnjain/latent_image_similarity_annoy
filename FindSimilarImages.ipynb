{
 "cells": [
  {
   "attachments": {},
   "cell_type": "markdown",
   "metadata": {},
   "source": [
    "### Imort Dependencies"
   ]
  },
  {
   "cell_type": "code",
   "execution_count": 12,
   "metadata": {},
   "outputs": [],
   "source": [
    "import os\n",
    "import torch\n",
    "from torchvision import transforms, models\n",
    "from PIL import Image, ImageDraw\n",
    "from IPython.display import display\n",
    "import torch.nn as nn\n",
    "from annoy import AnnoyIndex\n",
    "import time"
   ]
  },
  {
   "attachments": {},
   "cell_type": "markdown",
   "metadata": {},
   "source": [
    "### Load Data and vectorise it, then add the vector to annoy index"
   ]
  },
  {
   "cell_type": "code",
   "execution_count": 20,
   "metadata": {},
   "outputs": [
    {
     "data": {
      "text/plain": [
       "True"
      ]
     },
     "execution_count": 20,
     "metadata": {},
     "output_type": "execute_result"
    }
   ],
   "source": [
    "\n",
    "path = \"/Volumes/Seagate Bac/projects/image_similarity_data/\"\n",
    "images = [i for i in os.listdir(path) if not i.startswith(\".\")]\n",
    "\n",
    "weights = models.ResNet18_Weights.IMAGENET1K_V1\n",
    "model = models.resnet18(weights=weights)\n",
    "\n",
    "# weights = models.ResNet50_Weights.IMAGENET1K_V2\n",
    "# model = models.resnet50(weights=weights)\n",
    "\n",
    "model.fc = nn.Identity()\n",
    "model.eval()\n",
    "\n",
    "transform = transforms.Compose([\n",
    "    transforms.Resize((224,224)),\n",
    "    transforms.ToTensor()\n",
    "])\n",
    "\n",
    "# annoy_index = AnnoyIndex(512, 'angular')\n",
    "annoy_index = AnnoyIndex(512, 'angular')\n",
    "annoy_index.load(\"./temp_index.ann\")"
   ]
  },
  {
   "attachments": {},
   "cell_type": "markdown",
   "metadata": {},
   "source": [
    "### Make inference"
   ]
  },
  {
   "cell_type": "code",
   "execution_count": 21,
   "metadata": {},
   "outputs": [
    {
     "name": "stdout",
     "output_type": "stream",
     "text": [
      "Time taken:  0.004021883010864258\n"
     ]
    }
   ],
   "source": [
    "image_grid = Image.new('RGB',(1000,1000))\n",
    "\n",
    "image = Image.open(\"path\")\n",
    "# display(image)\n",
    "input_tensor = transform(image).unsqueeze(0)\n",
    "\n",
    "if input_tensor.size()[1] == 3:\n",
    "    output_tensor = model(input_tensor)\n",
    "\n",
    "    start = time.time()\n",
    "    nns = annoy_index.get_nns_by_vector(output_tensor[0],24,search_k=-1, include_distances=False)\n",
    "    print(\"Time taken: \", time.time()-start, \" seconds\")\n",
    "\n",
    "    image = image.resize((200,200))\n",
    "    image_draw = ImageDraw.Draw(image)\n",
    "    image_draw.rectangle([(0,0),(199,199)],outline='red',width=8)\n",
    "    image_grid.paste(image,(0,0))\n",
    "\n",
    "    for j in range(len(nns)):\n",
    "        search_image = image = Image.open(os.path.join(path , images[nns[j]]) )\n",
    "        search_image = search_image.resize((200,200))\n",
    "        image_grid.paste(search_image,(200*((j+1)%5),200*((j+1)//5)))\n"
   ]
  },
  {
   "cell_type": "code",
   "execution_count": 18,
   "metadata": {},
   "outputs": [],
   "source": [
    "image_grid.save(\"temp3_1.png\")"
   ]
  },
  {
   "cell_type": "code",
   "execution_count": null,
   "metadata": {},
   "outputs": [],
   "source": []
  }
 ],
 "metadata": {
  "kernelspec": {
   "display_name": "annoy",
   "language": "python",
   "name": "python3"
  },
  "language_info": {
   "codemirror_mode": {
    "name": "ipython",
    "version": 3
   },
   "file_extension": ".py",
   "mimetype": "text/x-python",
   "name": "python",
   "nbconvert_exporter": "python",
   "pygments_lexer": "ipython3",
   "version": "3.8.16"
  },
  "orig_nbformat": 4
 },
 "nbformat": 4,
 "nbformat_minor": 2
}
